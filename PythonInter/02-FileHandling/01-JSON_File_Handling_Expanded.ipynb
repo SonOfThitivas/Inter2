{
 "cells": [
  {
   "cell_type": "markdown",
   "metadata": {},
   "source": [
    "# 📦 JSON File Handling in Python\n",
    "This notebook explores how to read and write JSON data in Python. It covers:\n",
    "- What JSON is\n",
    "- Serialization & Deserialization\n",
    "- Reading from JSON files\n",
    "- Writing to JSON files\n",
    "- Handling errors safely"
   ]
  },
  {
   "cell_type": "markdown",
   "metadata": {},
   "source": [
    "## 🔍 What is JSON?\n",
    "JSON (JavaScript Object Notation) is a lightweight data-interchange format. It's easy for humans to read and write, and easy for machines to parse.\n",
    "\n",
    "- JSON object → Python dict\n",
    "- JSON array → Python list\n",
    "- JSON string → Python str\n",
    "- JSON true/false → Python True/False\n",
    "- JSON null → Python None"
   ]
  },
  {
   "cell_type": "markdown",
   "metadata": {},
   "source": [
    "## 🔐 Serialization (Saving Python to JSON)\n",
    "Serialization means converting a **Python object** (like a dictionary or list) into a **JSON string** or writing it to a **.json file**.\n",
    "\n",
    "This is useful when you want to:\n",
    "- Save program data for later use\n",
    "- Send data to another program or service\n",
    "- Store settings or configuration files"
   ]
  },
  {
   "cell_type": "code",
   "execution_count": null,
   "metadata": {},
   "outputs": [],
   "source": [
    "import json\n",
    "\n",
    "# Sample Python data\n",
    "person = {\n",
    "    \"name\": \"Alice\",\n",
    "    \"age\": 30,\n",
    "    \"skills\": [\"Python\", \"Data Science\"]\n",
    "}\n",
    "\n",
    "# Convert to JSON string (serialization)\n",
    "json_string = json.dumps(person, indent=2)\n",
    "print(json_string)"
   ]
  },
  {
   "cell_type": "markdown",
   "metadata": {},
   "source": [
    "You can also serialize directly to a file using `json.dump()`:"
   ]
  },
  {
   "cell_type": "code",
   "execution_count": null,
   "metadata": {},
   "outputs": [],
   "source": [
    "# Save to a file\n",
    "with open('person.json', 'w') as f:\n",
    "    json.dump(person, f, indent=2)"
   ]
  },
  {
   "cell_type": "markdown",
   "metadata": {},
   "source": [
    "## 🔓 Deserialization (Loading JSON into Python)\n",
    "Deserialization means converting a **JSON string** or **file** into a **Python object**.\n",
    "\n",
    "This is useful when you:\n",
    "- Load saved data\n",
    "- Read configuration or API responses\n",
    "- Work with structured content"
   ]
  },
  {
   "cell_type": "code",
   "execution_count": null,
   "metadata": {},
   "outputs": [],
   "source": [
    "# Deserialize from string\n",
    "parsed = json.loads(json_string)\n",
    "print(parsed)"
   ]
  },
  {
   "cell_type": "code",
   "execution_count": null,
   "metadata": {},
   "outputs": [],
   "source": [
    "# Deserialize from file\n",
    "with open('person.json', 'r') as f:\n",
    "    person_data = json.load(f)\n",
    "print(person_data)"
   ]
  },
  {
   "cell_type": "code",
   "execution_count": null,
   "metadata": {},
   "outputs": [],
   "source": [
    "import json\n",
    "\n",
    "# Python dict\n",
    "data = {\n",
    "    \"name\": \"Alice\",\n",
    "    \"age\": 30,\n",
    "    \"skills\": [\"Python\", \"Data Science\"]\n",
    "}\n",
    "\n",
    "# Serialize to string\n",
    "json_string = json.dumps(data, indent=2)\n",
    "print(json_string)"
   ]
  },
  {
   "cell_type": "code",
   "execution_count": null,
   "metadata": {},
   "outputs": [],
   "source": [
    "# Deserialize back to Python\n",
    "parsed_data = json.loads(json_string)\n",
    "print(parsed_data)"
   ]
  },
  {
   "cell_type": "markdown",
   "metadata": {},
   "source": [
    "## 📥 Reading from a JSON File\n",
    "Let's create a JSON file and read from it."
   ]
  },
  {
   "cell_type": "code",
   "execution_count": null,
   "metadata": {},
   "outputs": [],
   "source": [
    "# Write initial JSON file\n",
    "sample = [\n",
    "    {\"name\": \"Alice\", \"age\": 30},\n",
    "    {\"name\": \"Bob\", \"age\": 25}\n",
    "]\n",
    "\n",
    "with open('people.json', 'w') as f:\n",
    "    json.dump(sample, f, indent=2)"
   ]
  },
  {
   "cell_type": "code",
   "execution_count": null,
   "metadata": {},
   "outputs": [],
   "source": [
    "# Read JSON file into Python\n",
    "with open('people.json', 'r') as f:\n",
    "    people = json.load(f)\n",
    "\n",
    "print(people)"
   ]
  },
  {
   "cell_type": "markdown",
   "metadata": {},
   "source": [
    "## 📤 Writing to a JSON File\n",
    "We can update the list and save it again."
   ]
  },
  {
   "cell_type": "code",
   "execution_count": null,
   "metadata": {},
   "outputs": [],
   "source": [
    "# Add a new person\n",
    "people.append({\"name\": \"Charlie\", \"age\": 35})\n",
    "\n",
    "with open('people.json', 'w') as f:\n",
    "    json.dump(people, f, indent=2)"
   ]
  },
  {
   "cell_type": "markdown",
   "metadata": {},
   "source": [
    "## ⚠️ Common Gotchas\n",
    "- JSON requires **double quotes** (`\"`) not single quotes\n",
    "- No trailing commas allowed\n",
    "- Only standard types: dict, list, str, int, float, bool, None\n",
    "- Use `indent=` to make output readable"
   ]
  },
  {
   "cell_type": "markdown",
   "metadata": {},
   "source": [
    "## ✅ Safe JSON Handling with Error Checking"
   ]
  },
  {
   "cell_type": "code",
   "execution_count": null,
   "metadata": {},
   "outputs": [],
   "source": [
    "try:\n",
    "    with open('people.json', 'r') as f:\n",
    "        people = json.load(f)\n",
    "        print(\"Loaded JSON successfully.\")\n",
    "except FileNotFoundError:\n",
    "    print(\"File not found!\")\n",
    "except json.JSONDecodeError:\n",
    "    print(\"File is not valid JSON!\")"
   ]
  }
 ],
 "metadata": {
  "kernelspec": {
   "display_name": "base",
   "language": "python",
   "name": "python3"
  },
  "language_info": {
   "codemirror_mode": {
    "name": "ipython",
    "version": 3
   },
   "file_extension": ".py",
   "mimetype": "text/x-python",
   "name": "python",
   "nbconvert_exporter": "python",
   "pygments_lexer": "ipython3",
   "version": "3.11.4"
  }
 },
 "nbformat": 4,
 "nbformat_minor": 2
}
