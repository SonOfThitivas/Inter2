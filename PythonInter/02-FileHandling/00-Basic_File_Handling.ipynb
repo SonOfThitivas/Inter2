{
 "cells": [
  {
   "cell_type": "markdown",
   "id": "93945429",
   "metadata": {},
   "source": [
    "# 📁 File Handling in Python – Beginner to Intermediate\n",
    "This notebook introduces how Python handles files: reading, writing, and safely managing text files with error handling. We cover both the traditional approach and the modern `with` statement."
   ]
  },
  {
   "cell_type": "markdown",
   "id": "95a0e8a3",
   "metadata": {},
   "source": [
    "## 📂 Types of Files\n",
    "In Python, file handling generally involves two types of files:\n",
    "\n",
    "- **Text Files**: contain readable characters (e.g., `.txt`, `.csv`, `.json`)\n",
    "- **Binary Files**: contain raw binary data (e.g., images, audio, compiled code)\n",
    "\n",
    "For this notebook, we will focus on text files — especially `.txt` and `.json`."
   ]
  },
  {
   "cell_type": "markdown",
   "id": "3465b3cd",
   "metadata": {},
   "source": [
    "## 🛠️ Manual File Handling (Open and Close)\n",
    "Before `with` blocks, files were opened and closed manually using `open()` and `close()`. This method works, but requires discipline to avoid forgetting to close files."
   ]
  },
  {
   "cell_type": "code",
   "execution_count": null,
   "id": "fb38f3b3",
   "metadata": {},
   "outputs": [],
   "source": [
    "# Manual open and close\n",
    "file = open('manual_example.txt', 'w')\n",
    "file.write(\"Hello from manual file handling!\\n\")\n",
    "file.write(\"Always remember to close the file.\\n\")\n",
    "file.close()"
   ]
  },
  {
   "cell_type": "markdown",
   "id": "8cb9ae81",
   "metadata": {},
   "source": [
    "## 📖 Reading from Files\n",
    "There are multiple ways to read content from a file. Let's prepare a sample file first:"
   ]
  },
  {
   "cell_type": "code",
   "execution_count": null,
   "id": "2388e6e0",
   "metadata": {},
   "outputs": [],
   "source": [
    "# Preparing a file to read\n",
    "with open('sample.txt', 'w') as file:\n",
    "    file.write(\"Line 1: Hello\\nLine 2: How are you?\\nLine 3: Goodbye\")"
   ]
  },
  {
   "cell_type": "code",
   "execution_count": null,
   "id": "5abe300b",
   "metadata": {},
   "outputs": [],
   "source": [
    "# Read entire content\n",
    "file = open('sample.txt', 'r')\n",
    "print(file.read())\n",
    "file.close()"
   ]
  },
  {
   "cell_type": "code",
   "execution_count": null,
   "id": "20a12f7f",
   "metadata": {},
   "outputs": [],
   "source": [
    "# Read line by line (first line only)\n",
    "file = open('sample.txt', 'r')\n",
    "print(file.readline())\n",
    "file.close()"
   ]
  },
  {
   "cell_type": "code",
   "execution_count": null,
   "id": "19ff39eb",
   "metadata": {},
   "outputs": [],
   "source": [
    "# Read all lines as list\n",
    "file = open('sample.txt', 'r')\n",
    "print(file.readlines())\n",
    "file.close()"
   ]
  },
  {
   "cell_type": "markdown",
   "id": "cf62451d",
   "metadata": {},
   "source": [
    "## ✍️ Writing to Files\n",
    "Python offers multiple ways to write to text files. Let's look at `write()` and `writelines()`."
   ]
  },
  {
   "cell_type": "code",
   "execution_count": null,
   "id": "41048717",
   "metadata": {},
   "outputs": [],
   "source": [
    "# Writing with write() and writelines()\n",
    "file = open('write_test.txt', 'w')\n",
    "file.write(\"First line using write()\\n\")\n",
    "file.writelines([\"Second line\\n\", \"Third line\\n\"])\n",
    "file.close()"
   ]
  },
  {
   "cell_type": "markdown",
   "id": "b4ae7fee",
   "metadata": {},
   "source": [
    "## ⚠️ Handling File Errors Gracefully\n",
    "You should always assume a file might not exist, especially when reading."
   ]
  },
  {
   "cell_type": "code",
   "execution_count": null,
   "id": "cee51e27",
   "metadata": {},
   "outputs": [],
   "source": [
    "# Try-except-finally pattern\n",
    "try:\n",
    "    file = open('nonexistent_file.txt', 'r')\n",
    "    content = file.read()\n",
    "    print(content)\n",
    "except FileNotFoundError:\n",
    "    print(\"Error: The file does not exist.\")\n",
    "finally:\n",
    "    file.close()\n"
   ]
  },
  {
   "cell_type": "markdown",
   "id": "815e3113",
   "metadata": {},
   "source": [
    "## ✅ Safe File Handling Using `with`\n",
    "The modern, recommended way to handle files in Python is using `with`. It automatically closes the file after the block."
   ]
  },
  {
   "cell_type": "code",
   "execution_count": null,
   "id": "a7083124",
   "metadata": {},
   "outputs": [],
   "source": [
    "# Safe reading with 'with'\n",
    "try:\n",
    "    with open('sample.txt', 'r') as file:\n",
    "        content = file.read()\n",
    "        print(content)\n",
    "except FileNotFoundError:\n",
    "    print(\"File not found!\")"
   ]
  }
 ],
 "metadata": {
  "language_info": {
   "name": "python"
  }
 },
 "nbformat": 4,
 "nbformat_minor": 5
}
