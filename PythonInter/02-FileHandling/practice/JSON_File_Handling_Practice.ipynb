{
 "cells": [
  {
   "cell_type": "markdown",
   "metadata": {},
   "source": [
    "# 📝 Practice: JSON File Handling in Python\n",
    "This notebook includes exercises to practice reading, writing, and updating JSON data in files using Python's `json` module."
   ]
  },
  {
   "cell_type": "markdown",
   "metadata": {},
   "source": [
    "## 📥 Task 1: Create a JSON File\n",
    "Create a file called `students.json` that contains the following list of dictionaries:\n",
    "```json\n",
    "[\n",
    "  {\"name\": \"Alice\", \"grade\": 85},\n",
    "  {\"name\": \"Bob\", \"grade\": 78}\n",
    "]\n",
    "```\n",
    "✅ Use `json.dump()` to write this structure to a file."
   ]
  },
  {
   "cell_type": "code",
   "execution_count": null,
   "metadata": {},
   "outputs": [],
   "source": [
    "# TODO: Write the above JSON data to 'students.json'"
   ]
  },
  {
   "cell_type": "markdown",
   "metadata": {},
   "source": [
    "### ✅ Expected Output:\n",
    "File `students.json` should contain:\n",
    "```json\n",
    "[\n",
    "  {\"name\": \"Alice\", \"grade\": 85},\n",
    "  {\"name\": \"Bob\", \"grade\": 78}\n",
    "]\n",
    "```"
   ]
  },
  {
   "cell_type": "markdown",
   "metadata": {},
   "source": [
    "## 📖 Task 2: Read JSON File\n",
    "Load the data from `students.json` and print it.\n",
    "✅ Use `json.load()` to read from the file."
   ]
  },
  {
   "cell_type": "code",
   "execution_count": null,
   "metadata": {},
   "outputs": [],
   "source": [
    "# TODO: Read data from 'students.json' and print it"
   ]
  },
  {
   "cell_type": "markdown",
   "metadata": {},
   "source": [
    "### ✅ Expected Output:\n",
    "```python\n",
    "[{'name': 'Alice', 'grade': 85}, {'name': 'Bob', 'grade': 78}]\n",
    "```"
   ]
  },
  {
   "cell_type": "markdown",
   "metadata": {},
   "source": [
    "## ➕ Task 3: Add a New Student\n",
    "Ask the user for a name and grade, then add it to the list and write it back to `students.json`.\n",
    "✅ Use `input()` to collect user input, update the list, and overwrite the file."
   ]
  },
  {
   "cell_type": "code",
   "execution_count": null,
   "metadata": {},
   "outputs": [],
   "source": [
    "# TODO: Append a new student to the JSON file"
   ]
  },
  {
   "cell_type": "markdown",
   "metadata": {},
   "source": [
    "### ✅ Expected Output:\n",
    "User enters:\n",
    "```\n",
    "Charlie\n",
    "90\n",
    "```\n",
    "Updated JSON file will now include Charlie."
   ]
  },
  {
   "cell_type": "markdown",
   "metadata": {},
   "source": [
    "## 🧮 Task 4: Calculate Average Grade\n",
    "Read the file again and calculate the average grade of all students.\n",
    "✅ Use a loop and basic math."
   ]
  },
  {
   "cell_type": "code",
   "execution_count": null,
   "metadata": {},
   "outputs": [],
   "source": [
    "# TODO: Calculate and print average grade"
   ]
  },
  {
   "cell_type": "markdown",
   "metadata": {},
   "source": [
    "### ✅ Expected Output:\n",
    "```python\n",
    "Average grade: 84.3  # (example, depends on data)\n",
    "```"
   ]
  },
  {
   "cell_type": "markdown",
   "metadata": {},
   "source": [
    "## 🛡️ Task 5: Handle Errors Safely\n",
    "Try to open a file called `broken.json` and load it with `json.load()`. Catch errors if the file is missing or not valid JSON.\n",
    "✅ Use `try/except` with `FileNotFoundError` and `json.JSONDecodeError`."
   ]
  },
  {
   "cell_type": "code",
   "execution_count": null,
   "metadata": {},
   "outputs": [],
   "source": [
    "# TODO: Handle missing or invalid JSON file"
   ]
  },
  {
   "cell_type": "markdown",
   "metadata": {},
   "source": [
    "### ✅ Expected Output:\n",
    "```\n",
    "Error: File not found!\n",
    "OR\n",
    "Error: Invalid JSON format!\n",
    "```"
   ]
  }
 ],
 "metadata": {
  "kernelspec": {
   "display_name": "Python 3",
   "language": "python",
   "name": "python3"
  },
  "language_info": {
   "name": "python",
   "version": "3.8"
  }
 },
 "nbformat": 4,
 "nbformat_minor": 2
}
