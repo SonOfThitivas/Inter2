{
 "cells": [
  {
   "cell_type": "markdown",
   "metadata": {},
   "source": [
    "# 📝 Practice: Basic File Handling in Python\n",
    "This notebook contains a set of guided exercises to help you practice file reading, writing, and safe handling using `with` and error checking."
   ]
  },
  {
   "cell_type": "markdown",
   "metadata": {},
   "source": [
    "## ✍️ Task 1: Write to a File\n",
    "Create a file called `notes.txt` and write the following three lines into it:\n",
    "\n",
    "```\n",
    "Python is powerful.\n",
    "File handling is easy.\n",
    "Always close your files.\n",
    "```\n",
    "✅ Use `with open(..., 'w')` to do this."
   ]
  },
  {
   "cell_type": "code",
   "execution_count": null,
   "metadata": {},
   "outputs": [],
   "source": [
    "# TODO: Write three lines into 'notes.txt' using 'with open(...) as file'"
   ]
  },
  {
   "cell_type": "markdown",
   "metadata": {},
   "source": [
    "## 📖 Task 2: Read Entire File Content\n",
    "Now read and print the entire contents of `notes.txt`.\n",
    "✅ Use `with open(..., 'r')` and `.read()`."
   ]
  },
  {
   "cell_type": "code",
   "execution_count": null,
   "metadata": {},
   "outputs": [],
   "source": [
    "# TODO: Open the file and read all content"
   ]
  },
  {
   "cell_type": "markdown",
   "metadata": {},
   "source": [
    "## 📃 Task 3: Read Line by Line\n",
    "Read `notes.txt` again, but this time print each line separately.\n",
    "✅ Use `.readlines()` or loop with `.readline()`."
   ]
  },
  {
   "cell_type": "code",
   "execution_count": null,
   "metadata": {},
   "outputs": [],
   "source": [
    "# TODO: Read and print each line separately"
   ]
  },
  {
   "cell_type": "markdown",
   "metadata": {},
   "source": [
    "## 🛡️ Task 4: Handle Missing File\n",
    "Try reading a file that doesn’t exist, like `missing.txt`, and handle the error.\n",
    "✅ Use `try/except FileNotFoundError` to catch the problem and print a user-friendly message."
   ]
  },
  {
   "cell_type": "code",
   "execution_count": null,
   "metadata": {},
   "outputs": [],
   "source": [
    "# TODO: Try to open 'missing.txt' and handle the FileNotFoundError"
   ]
  },
  {
   "cell_type": "markdown",
   "metadata": {},
   "source": [
    "## 📂 Task 5: Append to a File\n",
    "Add this line to the end of `notes.txt`:\n",
    "```\n",
    "Appending works too!\n",
    "```\n",
    "✅ Use `'a'` mode and `with open(...)`."
   ]
  },
  {
   "cell_type": "code",
   "execution_count": null,
   "metadata": {},
   "outputs": [],
   "source": [
    "# TODO: Append a line to the existing 'notes.txt'"
   ]
  },
  {
   "cell_type": "markdown",
   "metadata": {},
   "source": [
    "## 🧼 Task 6: Strip Newlines and Print Clean Lines\n",
    "Read the file and print each line **without newline characters** (`\\n`).\n",
    "✅ Use `.strip()` when printing."
   ]
  },
  {
   "cell_type": "code",
   "execution_count": null,
   "metadata": {},
   "outputs": [],
   "source": [
    "# TODO: Print each line without newline characters"
   ]
  }
 ],
 "metadata": {
  "kernelspec": {
   "display_name": "Python 3",
   "language": "python",
   "name": "python3"
  },
  "language_info": {
   "name": "python",
   "version": "3.8"
  }
 },
 "nbformat": 4,
 "nbformat_minor": 2
}
