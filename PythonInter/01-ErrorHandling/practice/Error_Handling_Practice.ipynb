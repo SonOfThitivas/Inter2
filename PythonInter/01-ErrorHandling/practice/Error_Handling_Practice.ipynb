{
 "cells": [
  {
   "cell_type": "markdown",
   "id": "c9bf0660",
   "metadata": {},
   "source": [
    "# 🧪 Error Handling Practice\n",
    "\n",
    "Test your understanding of Python's `try`, `except`, `else`, and `finally` blocks with real examples."
   ]
  },
  {
   "cell_type": "markdown",
   "id": "bc2ca64c",
   "metadata": {},
   "source": [
    "## Practice 1: Handle Bad Input\n",
    "Ask the user for a number and print its square. If the input is not a number, show a helpful message."
   ]
  },
  {
   "cell_type": "markdown",
   "id": "2030c7d6",
   "metadata": {},
   "source": [
    "**Expected Output Example 1:**\n",
    "```\n",
    "Enter a number: 5\n",
    "The square is 25\n",
    "```\n",
    "\n",
    "**Expected Output Example 2:**\n",
    "```\n",
    "Enter a number: hello\n",
    "Invalid input! Please enter a valid number.\n",
    "```"
   ]
  },
  {
   "cell_type": "code",
   "execution_count": null,
   "id": "494a8b00",
   "metadata": {},
   "outputs": [],
   "source": [
    "# TODO: Add error handling for invalid input\n",
    "num = input(\"Enter a number: \")\n",
    "square = int(num) ** 2\n",
    "print(\"The square is\", square)"
   ]
  },
  {
   "cell_type": "markdown",
   "id": "fff08d67",
   "metadata": {},
   "source": [
    "## Practice 2: Safe Division\n",
    "Ask the user for two numbers and divide them. Handle both non-numeric input and division by zero."
   ]
  },
  {
   "cell_type": "markdown",
   "id": "88404b7a",
   "metadata": {},
   "source": [
    "**Expected Output Example 1:**\n",
    "```\n",
    "Enter numerator: 10\n",
    "Enter denominator: 2\n",
    "Result: 5.0\n",
    "```\n",
    "\n",
    "**Expected Output Example 2:**\n",
    "```\n",
    "Enter numerator: 10\n",
    "Enter denominator: 0\n",
    "You can't divide by zero!\n",
    "```\n",
    "\n",
    "**Expected Output Example 3:**\n",
    "```\n",
    "Enter numerator: ten\n",
    "Enter denominator: 5\n",
    "Invalid input! Please enter numbers.\n",
    "```"
   ]
  },
  {
   "cell_type": "code",
   "execution_count": null,
   "id": "57535736",
   "metadata": {},
   "outputs": [],
   "source": [
    "# TODO: Handle ValueError and ZeroDivisionError\n",
    "num1 = input(\"Enter numerator: \")\n",
    "num2 = input(\"Enter denominator: \")\n",
    "\n",
    "n1 = int(num1)\n",
    "n2 = int(num2)\n",
    "\n",
    "print(\"Result:\", n1 / n2)"
   ]
  },
  {
   "cell_type": "markdown",
   "id": "0dbb7813",
   "metadata": {},
   "source": [
    "## Practice 3: Else and Finally\n",
    "Use `else` to confirm successful operation and `finally` to show a closing message."
   ]
  },
  {
   "cell_type": "markdown",
   "id": "d290ab5b",
   "metadata": {},
   "source": [
    "**Expected Output Example:**\n",
    "```\n",
    "Enter a number: 3\n",
    "You entered: 3\n",
    "Done.\n",
    "```\n",
    "\n",
    "**Or if input is invalid:**\n",
    "```\n",
    "Enter a number: xyz\n",
    "That was not a valid number.\n",
    "Done.\n",
    "```"
   ]
  },
  {
   "cell_type": "code",
   "execution_count": null,
   "id": "2670914b",
   "metadata": {},
   "outputs": [],
   "source": [
    "# TODO: Use else and finally blocks\n",
    "num = input(\"Enter a number: \")\n",
    "\n",
    "n = int(num)\n",
    "\n",
    "print(\"You entered:\", n)"
   ]
  },
  {
   "cell_type": "markdown",
   "id": "04bbaaa8",
   "metadata": {},
   "source": [
    "## Practice 4: Raise an Exception\n",
    "Ask the user for age. If the number is negative, raise a `ValueError`. Handle and print the error message."
   ]
  },
  {
   "cell_type": "markdown",
   "id": "d5373385",
   "metadata": {},
   "source": [
    "**Expected Output Example:**\n",
    "```\n",
    "Enter your age: -5\n",
    "Error: Age cannot be negative.\n",
    "```\n",
    "\n",
    "**Or:**\n",
    "```\n",
    "Enter your age: 20\n",
    "Your age is: 20\n",
    "```"
   ]
  },
  {
   "cell_type": "code",
   "execution_count": null,
   "id": "9d88416d",
   "metadata": {},
   "outputs": [],
   "source": [
    "# TODO: Raise and catch a ValueError if age is negative\n",
    "age = int(input(\"Enter your age: \"))\n",
    "\n",
    "if age < 0:\n",
    "    # Raise error here\n",
    "    pass\n",
    "\n",
    "print(\"Your age is:\", age)"
   ]
  }
 ],
 "metadata": {
  "language_info": {
   "name": "python"
  }
 },
 "nbformat": 4,
 "nbformat_minor": 5
}
