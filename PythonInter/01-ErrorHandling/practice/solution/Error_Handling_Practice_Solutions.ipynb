{
 "cells": [
  {
   "cell_type": "markdown",
   "id": "4ff8b9bf",
   "metadata": {},
   "source": [
    "# ✅ Error Handling Practice – Solutions"
   ]
  },
  {
   "cell_type": "markdown",
   "id": "3a43c5c0",
   "metadata": {},
   "source": [
    "## Solution 1: Handle Bad Input"
   ]
  },
  {
   "cell_type": "code",
   "execution_count": null,
   "id": "bdab3b08",
   "metadata": {},
   "outputs": [],
   "source": [
    "try:\n",
    "    num = input(\"Enter a number: \")\n",
    "    square = int(num) ** 2\n",
    "    print(\"The square is\", square)\n",
    "except ValueError:\n",
    "    print(\"Invalid input! Please enter a valid number.\")"
   ]
  },
  {
   "cell_type": "markdown",
   "id": "4dfb505e",
   "metadata": {},
   "source": [
    "## Solution 2: Safe Division"
   ]
  },
  {
   "cell_type": "code",
   "execution_count": null,
   "id": "3963dc03",
   "metadata": {},
   "outputs": [],
   "source": [
    "try:\n",
    "    num1 = input(\"Enter numerator: \")\n",
    "    num2 = input(\"Enter denominator: \")\n",
    "\n",
    "    n1 = int(num1)\n",
    "    n2 = int(num2)\n",
    "\n",
    "    result = n1 / n2\n",
    "except ValueError:\n",
    "    print(\"Invalid input! Please enter numbers.\")\n",
    "except ZeroDivisionError:\n",
    "    print(\"You can't divide by zero!\")\n",
    "else:\n",
    "    print(\"Result:\", result)"
   ]
  },
  {
   "cell_type": "markdown",
   "id": "8f79cf9d",
   "metadata": {},
   "source": [
    "## Solution 3: Else and Finally"
   ]
  },
  {
   "cell_type": "code",
   "execution_count": null,
   "id": "6c7d031e",
   "metadata": {},
   "outputs": [],
   "source": [
    "try:\n",
    "    num = input(\"Enter a number: \")\n",
    "    n = int(num)\n",
    "except ValueError:\n",
    "    print(\"That was not a valid number.\")\n",
    "else:\n",
    "    print(\"You entered:\", n)\n",
    "finally:\n",
    "    print(\"Done.\")"
   ]
  },
  {
   "cell_type": "markdown",
   "id": "a062b9b7",
   "metadata": {},
   "source": [
    "## Solution 4: Raise an Exception"
   ]
  },
  {
   "cell_type": "code",
   "execution_count": null,
   "id": "5245e1f5",
   "metadata": {},
   "outputs": [],
   "source": [
    "try:\n",
    "    age = int(input(\"Enter your age: \"))\n",
    "    if age < 0:\n",
    "        raise ValueError(\"Age cannot be negative.\")\n",
    "except ValueError as e:\n",
    "    print(\"Error:\", e)\n",
    "else:\n",
    "    print(\"Your age is:\", age)"
   ]
  }
 ],
 "metadata": {
  "language_info": {
   "name": "python"
  }
 },
 "nbformat": 4,
 "nbformat_minor": 5
}
