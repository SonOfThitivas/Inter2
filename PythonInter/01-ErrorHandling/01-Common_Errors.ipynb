{
 "cells": [
  {
   "cell_type": "markdown",
   "id": "e4163797",
   "metadata": {},
   "source": [
    "# ❌ Common Errors in Python\n",
    "\n",
    "Learn about frequent errors and how to recognize them."
   ]
  },
  {
   "cell_type": "markdown",
   "id": "620e7ac0",
   "metadata": {},
   "source": [
    "## 🔢 ValueError\n",
    "Occurs when a function receives the right type but an invalid value."
   ]
  },
  {
   "cell_type": "code",
   "execution_count": null,
   "id": "a4cfb795",
   "metadata": {},
   "outputs": [],
   "source": [
    "# Trying to convert a non-numeric string to an integer\n",
    "age = int(\"twenty\")"
   ]
  },
  {
   "cell_type": "markdown",
   "id": "f5a5fe9c",
   "metadata": {},
   "source": [
    "## 🔁 TypeError\n",
    "Occurs when an operation is applied to the wrong type."
   ]
  },
  {
   "cell_type": "code",
   "execution_count": null,
   "id": "ff3f9bd6",
   "metadata": {},
   "outputs": [],
   "source": [
    "# Adding a string to an integer\n",
    "result = \"Age: \" + 25"
   ]
  },
  {
   "cell_type": "markdown",
   "id": "11497422",
   "metadata": {},
   "source": [
    "## ➗ ZeroDivisionError\n",
    "Happens when you divide by zero."
   ]
  },
  {
   "cell_type": "code",
   "execution_count": null,
   "id": "728267ca",
   "metadata": {},
   "outputs": [],
   "source": [
    "# Dividing by zero\n",
    "total = 10 / 0"
   ]
  },
  {
   "cell_type": "markdown",
   "id": "aeb25d07",
   "metadata": {},
   "source": [
    "## 📦 IndexError\n",
    "Occurs when you access an index that doesn’t exist in a list."
   ]
  },
  {
   "cell_type": "code",
   "execution_count": null,
   "id": "470c18f4",
   "metadata": {},
   "outputs": [],
   "source": [
    "# Accessing an out-of-range index\n",
    "colors = [\"red\", \"green\", \"blue\"]\n",
    "print(colors[5])"
   ]
  },
  {
   "cell_type": "markdown",
   "id": "2002ee32",
   "metadata": {},
   "source": [
    "## 🔑 KeyError\n",
    "Happens when a dictionary key is not found."
   ]
  },
  {
   "cell_type": "code",
   "execution_count": null,
   "id": "b3b6a4d9",
   "metadata": {},
   "outputs": [],
   "source": [
    "# Accessing a missing dictionary key\n",
    "person = {\"name\": \"Alice\"}\n",
    "print(person[\"age\"])"
   ]
  },
  {
   "cell_type": "markdown",
   "id": "0a0b6a78",
   "metadata": {},
   "source": [
    "## 🆔 NameError\n",
    "Occurs when a variable is used before it’s defined."
   ]
  },
  {
   "cell_type": "code",
   "execution_count": null,
   "id": "33088742",
   "metadata": {},
   "outputs": [],
   "source": [
    "# Using an undefined variable\n",
    "print(score)"
   ]
  },
  {
   "cell_type": "markdown",
   "id": "39b5b218",
   "metadata": {},
   "source": [
    "## 📂 FileNotFoundError\n",
    "Happens when trying to open a file that doesn’t exist."
   ]
  },
  {
   "cell_type": "code",
   "execution_count": null,
   "id": "261ca8dc",
   "metadata": {},
   "outputs": [],
   "source": [
    "# Trying to read a non-existent file\n",
    "with open(\"missing.txt\", \"r\") as file:\n",
    "    content = file.read()"
   ]
  }
 ],
 "metadata": {
  "language_info": {
   "name": "python"
  }
 },
 "nbformat": 4,
 "nbformat_minor": 5
}
