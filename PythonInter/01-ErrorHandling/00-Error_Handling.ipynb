{
 "cells": [
  {
   "cell_type": "markdown",
   "id": "0816388d",
   "metadata": {},
   "source": [
    "# 🛠️ ERROR HANDLING IN PYTHON"
   ]
  },
  {
   "cell_type": "markdown",
   "id": "91c1dc0d",
   "metadata": {},
   "source": [
    "## ❓ WHY AND WHEN ERROR HANDLING?\n",
    "Error handling helps you prevent your program from crashing when things go wrong, such as invalid input or unexpected conditions.\n",
    "\n",
    "Use error handling when:\n",
    "- You're taking input from users\n",
    "- You're doing calculations (like division)\n",
    "- You're working with data that might be missing or invalid"
   ]
  },
  {
   "cell_type": "markdown",
   "id": "fa034f7f",
   "metadata": {},
   "source": [
    "## ⚖️ DIFFERENCE BETWEEN EXCEPTION AND ERROR\n",
    "**Exceptions** are problems your program can expect and handle (e.g., `ValueError`, `ZeroDivisionError`, `TypeError`).\n",
    "\n",
    "**Errors** are more serious and often indicate something wrong with the program itself (e.g., `SyntaxError`, `MemoryError`, `SystemError`)."
   ]
  },
  {
   "cell_type": "markdown",
   "id": "5c8d8d77",
   "metadata": {},
   "source": [
    "## 📚 COMMON EXCEPTIONS IN PYTHON\n",
    "| Exception           | When It Happens                        |\n",
    "|---------------------|----------------------------------------|\n",
    "| `ValueError`        | Invalid value (e.g., `int('abc')`)     |\n",
    "| `TypeError`         | Wrong type used in operation           |\n",
    "| `ZeroDivisionError` | Division by zero                       |\n",
    "| `IndexError`        | List index out of range                |\n",
    "| `KeyError`          | Missing dictionary key                 |\n",
    "| `FileNotFoundError` | File does not exist                    |\n",
    "| `NameError`         | Using undefined variable               |"
   ]
  },
  {
   "cell_type": "markdown",
   "id": "f1ef0cf7",
   "metadata": {},
   "source": [
    "## ✅ HANDLING A SIMPLE EXCEPTION\n",
    "This example shows how to use `try` and `except` to catch a `ValueError`. If the user enters something that isn't a number, the program prints a helpful message instead of crashing."
   ]
  },
  {
   "cell_type": "code",
   "execution_count": null,
   "id": "9aede445",
   "metadata": {},
   "outputs": [],
   "source": [
    "try:\n",
    "    age = int(input(\"Enter your age: \"))\n",
    "except ValueError:\n",
    "    print(\"Please enter a valid number.\")"
   ]
  },
  {
   "cell_type": "markdown",
   "id": "3b832a55",
   "metadata": {},
   "source": [
    "## 🔀 HANDLING MULTIPLE EXCEPTIONS\n",
    "This example shows how to catch two types of errors: `ValueError` (bad input) and `ZeroDivisionError` (division by zero). Each `except` block handles one specific case."
   ]
  },
  {
   "cell_type": "code",
   "execution_count": null,
   "id": "a7f69660",
   "metadata": {},
   "outputs": [],
   "source": [
    "try:\n",
    "    num = int(\"0\")\n",
    "    result = 10 / num\n",
    "except ValueError:\n",
    "    print(\"Not an integer.\")\n",
    "except ZeroDivisionError:\n",
    "    print(\"Can't divide by zero.\")"
   ]
  },
  {
   "cell_type": "markdown",
   "id": "cbb50e54",
   "metadata": {},
   "source": [
    "## ⚙️ HANDLING WITH ELSE AND FINALLY\n",
    "`else` runs only if no exception happens. `finally` runs no matter what. This is useful for confirming success or doing clean-up steps."
   ]
  },
  {
   "cell_type": "code",
   "execution_count": null,
   "id": "4e01b207",
   "metadata": {},
   "outputs": [],
   "source": [
    "try:\n",
    "    number = int(input(\"Enter a number: \"))\n",
    "except ValueError:\n",
    "    print(\"That’s not a valid number.\")\n",
    "else:\n",
    "    print(\"Great! You entered:\", number)\n",
    "finally:\n",
    "    print(\"This runs no matter what.\")"
   ]
  },
  {
   "cell_type": "markdown",
   "id": "4f25c3e4",
   "metadata": {},
   "source": [
    "## 🧯 CATCHES ALL EXCEPTIONS\n",
    "This example uses a general `except:` to catch any kind of exception. While this is simple, it’s risky because it hides the specific error."
   ]
  },
  {
   "cell_type": "code",
   "execution_count": null,
   "id": "9c02f31e",
   "metadata": {},
   "outputs": [],
   "source": [
    "try:\n",
    "    risky_code()\n",
    "except:\n",
    "    print(\"Something went wrong.\")"
   ]
  },
  {
   "cell_type": "markdown",
   "id": "7d650e3d",
   "metadata": {},
   "source": [
    "> ⚠️ Catch-all `except` blocks can hide real issues. Avoid using them unless absolutely necessary."
   ]
  },
  {
   "cell_type": "markdown",
   "id": "e8e396ad",
   "metadata": {},
   "source": [
    "## 📝 CAPTURE THE ERROR MESSAGE\n",
    "You can use `as e` to capture the actual error message and print it or log it. This gives more detail about what went wrong."
   ]
  },
  {
   "cell_type": "code",
   "execution_count": null,
   "id": "0c252b3a",
   "metadata": {},
   "outputs": [],
   "source": [
    "try:\n",
    "    age = int(\"abc\")\n",
    "except ValueError as e:\n",
    "    print(\"Error message:\", e)"
   ]
  },
  {
   "cell_type": "markdown",
   "id": "610e9d3d",
   "metadata": {},
   "source": [
    "## 🚨 RAISE AN EXCEPTION\n",
    "Use `raise` to manually create an error when your code detects a problem. In this example, a negative age triggers a `ValueError`."
   ]
  },
  {
   "cell_type": "code",
   "execution_count": null,
   "id": "ed729d85",
   "metadata": {},
   "outputs": [],
   "source": [
    "try:\n",
    "    age = int(input(\"Enter your age: \"))\n",
    "    if age < 0:\n",
    "        raise ValueError(\"Age cannot be negative.\")\n",
    "except ValueError as e:\n",
    "    print(\"Error:\", e)\n",
    "else:\n",
    "    print(\"Thank you! Your age is:\", age)"
   ]
  },
  {
   "cell_type": "markdown",
   "id": "498970a2",
   "metadata": {},
   "source": [
    "## 🧯 ADDITIONAL CATCH-ALL EXCEPTION EXAMPLE\n",
    "This function shows how a generic `except:` block catches **any** exception, such as division by zero or wrong types."
   ]
  },
  {
   "cell_type": "code",
   "execution_count": null,
   "id": "b646ad27",
   "metadata": {},
   "outputs": [],
   "source": [
    "def divide_numbers(a, b):\n",
    "    try:\n",
    "        result = a / b\n",
    "        print(\"Result is:\", result)\n",
    "    except:\n",
    "        print(\"Something went wrong.\")\n",
    "\n",
    "# Try dividing by zero (will raise ZeroDivisionError)\n",
    "divide_numbers(10, 0)\n",
    "\n",
    "# Try passing a string (will raise TypeError)\n",
    "divide_numbers(\"ten\", 2)"
   ]
  },
  {
   "cell_type": "markdown",
   "id": "265a7873",
   "metadata": {},
   "source": [
    "> ⚠️ Catching all exceptions can help avoid crashes, but hides the exact problem. Use with caution."
   ]
  }
 ],
 "metadata": {
  "language_info": {
   "name": "python"
  }
 },
 "nbformat": 4,
 "nbformat_minor": 5
}
