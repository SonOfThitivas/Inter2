{
 "cells": [
  {
   "cell_type": "markdown",
   "id": "585943ee",
   "metadata": {},
   "source": [
    "# 🚗 Think in Objects — Vehicle Example\n",
    "\n",
    "This notebook introduces Object-Oriented Programming (OOP) using a Vehicle example. We’ll cover:\n",
    "- Classes and Objects\n",
    "- Inheritance and `super()`\n",
    "- A taste of Polymorphism"
   ]
  },
  {
   "cell_type": "markdown",
   "id": "e97ed6ca",
   "metadata": {},
   "source": [
    "## 🧱 Step 1: Define a Base Class — `Vehicle`\n",
    "A class is like a **blueprint**. It defines what a `Vehicle` is and what it can do."
   ]
  },
  {
   "cell_type": "code",
   "execution_count": 1,
   "id": "acfa1805",
   "metadata": {},
   "outputs": [],
   "source": [
    "class Vehicle:\n",
    "    def __init__(self, color, fuel):\n",
    "        self.color = color\n",
    "        self.fuel = fuel\n",
    "\n",
    "    def drive(self):\n",
    "        print(\"The vehicle moves.\")\n"
   ]
  },
  {
   "cell_type": "code",
   "execution_count": 2,
   "id": "44f96fac",
   "metadata": {},
   "outputs": [
    {
     "name": "stdout",
     "output_type": "stream",
     "text": [
      "blue\n",
      "The vehicle moves.\n"
     ]
    }
   ],
   "source": [
    "# Create a Vehicle object\n",
    "v1 = Vehicle(\"blue\", \"gasoline\")\n",
    "print(v1.color)\n",
    "v1.drive()"
   ]
  },
  {
   "cell_type": "markdown",
   "id": "dfd4aca1",
   "metadata": {},
   "source": [
    "## 🚘 Step 2: Create a Subclass — `ElectricCar`\n",
    "A subclass can **inherit** from the base class and customize or extend its behavior."
   ]
  },
  {
   "cell_type": "code",
   "execution_count": 3,
   "id": "d830677a",
   "metadata": {},
   "outputs": [],
   "source": [
    "class ElectricCar(Vehicle):\n",
    "    def __init__(self, color, battery_level):\n",
    "        super().__init__(color, fuel=None)  # Call parent constructor\n",
    "        self.battery_level = battery_level\n",
    "\n",
    "    def drive(self):\n",
    "        print(\"The electric car glides silently.\")\n",
    "\n",
    "    def charge(self):\n",
    "        print(\"Charging the battery...\")"
   ]
  },
  {
   "cell_type": "code",
   "execution_count": 4,
   "id": "98889087",
   "metadata": {},
   "outputs": [
    {
     "name": "stdout",
     "output_type": "stream",
     "text": [
      "red\n",
      "The electric car glides silently.\n",
      "Charging the battery...\n"
     ]
    }
   ],
   "source": [
    "# Create an ElectricCar object\n",
    "ecar = ElectricCar(\"red\", 90)\n",
    "print(ecar.color)\n",
    "ecar.drive()\n",
    "ecar.charge()"
   ]
  },
  {
   "cell_type": "markdown",
   "id": "5508a629",
   "metadata": {},
   "source": [
    "## 🔄 Step 3: A Taste of Polymorphism\n",
    "Different objects can respond to the **same method** in different ways."
   ]
  },
  {
   "cell_type": "code",
   "execution_count": 5,
   "id": "6308da8d",
   "metadata": {},
   "outputs": [
    {
     "name": "stdout",
     "output_type": "stream",
     "text": [
      "The vehicle moves.\n",
      "The electric car glides silently.\n"
     ]
    }
   ],
   "source": [
    "vehicles = [Vehicle(\"gray\", \"diesel\"), ElectricCar(\"green\", 85)]\n",
    "\n",
    "for v in vehicles:\n",
    "    v.drive()  # Different output depending on the object type"
   ]
  },
  {
   "cell_type": "markdown",
   "id": "73e47e83",
   "metadata": {},
   "source": [
    "## ✅ Summary\n",
    "- `class` defines a blueprint\n",
    "- `object` is a real thing created from the class\n",
    "- `super()` allows a subclass to use code from its parent\n",
    "- Polymorphism lets objects respond differently to the same method\n",
    "\n",
    "Next step: We'll build a manager that saves these objects to JSON!"
   ]
  }
 ],
 "metadata": {
  "kernelspec": {
   "display_name": "base",
   "language": "python",
   "name": "python3"
  },
  "language_info": {
   "codemirror_mode": {
    "name": "ipython",
    "version": 3
   },
   "file_extension": ".py",
   "mimetype": "text/x-python",
   "name": "python",
   "nbconvert_exporter": "python",
   "pygments_lexer": "ipython3",
   "version": "3.11.4"
  }
 },
 "nbformat": 4,
 "nbformat_minor": 5
}
