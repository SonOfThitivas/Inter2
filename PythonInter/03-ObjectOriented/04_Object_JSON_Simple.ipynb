{
 "cells": [
  {
   "cell_type": "markdown",
   "id": "1b3e4f4f",
   "metadata": {},
   "source": [
    "# 📦 Integrating JSON with OOP in Python (with `from_dict`)\n",
    "\n",
    "This notebook shows how to:\n",
    "- Define classes with attributes and methods\n",
    "- Convert objects to dictionaries for JSON saving\n",
    "- Save and load data using the `json` module\n",
    "- Re-create objects from JSON data using a `classmethod`"
   ]
  },
  {
   "cell_type": "markdown",
   "id": "faf1c57a",
   "metadata": {},
   "source": [
    "## 🧱 Step 1: Define a Class with `from_dict`\n",
    "We’ll use a `Student` class and add a `classmethod` to build objects from dictionaries."
   ]
  },
  {
   "cell_type": "code",
   "execution_count": null,
   "id": "f810da10",
   "metadata": {},
   "outputs": [],
   "source": [
    "class Student:\n",
    "    def __init__(self, name, age, courses):\n",
    "        self.name = name\n",
    "        self.age = age\n",
    "        self.courses = courses\n",
    "\n",
    "    def display(self):\n",
    "        print(f\"{self.name}, Age: {self.age}, Courses: {self.courses}\")\n",
    "\n",
    "    def to_dict(self):\n",
    "        return {\n",
    "            \"name\": self.name,\n",
    "            \"age\": self.age,\n",
    "            \"courses\": self.courses\n",
    "        }\n",
    "\n",
    "    @classmethod\n",
    "    def from_dict(cls, data):\n",
    "        return cls(data[\"name\"], data[\"age\"], data[\"courses\"])"
   ]
  },
  {
   "cell_type": "markdown",
   "id": "aad4a6df",
   "metadata": {},
   "source": [
    "## 💾 Step 2: Save Object as JSON"
   ]
  },
  {
   "cell_type": "code",
   "execution_count": null,
   "id": "c067040b",
   "metadata": {},
   "outputs": [],
   "source": [
    "import json\n",
    "\n",
    "s1 = Student(\"Alice\", 21, [\"Math\", \"CS\"])\n",
    "with open(\"student_data.json\", \"w\") as f:\n",
    "    json.dump(s1.to_dict(), f, indent=2)\n",
    "print(\"Saved student to student_data.json\")"
   ]
  },
  {
   "cell_type": "markdown",
   "id": "10db1457",
   "metadata": {},
   "source": [
    "## 📥 Step 3: Load JSON and Rebuild with `from_dict`"
   ]
  },
  {
   "cell_type": "code",
   "execution_count": null,
   "id": "946e034c",
   "metadata": {},
   "outputs": [],
   "source": [
    "with open(\"student_data.json\", \"r\") as f:\n",
    "    data = json.load(f)\n",
    "\n",
    "s2 = Student.from_dict(data)\n",
    "s2.display()"
   ]
  },
  {
   "cell_type": "markdown",
   "id": "6ad6cfed",
   "metadata": {},
   "source": [
    "## 📚 Step 4: Handle a List of Students"
   ]
  },
  {
   "cell_type": "code",
   "execution_count": null,
   "id": "9bad55e5",
   "metadata": {},
   "outputs": [],
   "source": [
    "students = [\n",
    "    Student(\"Bob\", 22, [\"History\"]),\n",
    "    Student(\"Carol\", 20, [\"Biology\", \"Chemistry\"])\n",
    "]\n",
    "\n",
    "# Save all\n",
    "with open(\"students.json\", \"w\") as f:\n",
    "    json.dump([s.to_dict() for s in students], f, indent=2)\n",
    "\n",
    "# Load and recreate\n",
    "with open(\"students.json\", \"r\") as f:\n",
    "    loaded = json.load(f)\n",
    "\n",
    "student_objects = [Student.from_dict(d) for d in loaded]\n",
    "for s in student_objects:\n",
    "    s.display()"
   ]
  },
  {
   "cell_type": "markdown",
   "id": "c45a9443",
   "metadata": {},
   "source": [
    "## ✅ Summary\n",
    "- `to_dict()` prepares object data for saving\n",
    "- `from_dict()` is a `classmethod` to rebuild objects from dicts\n",
    "- This makes saving and loading objects with JSON much easier and cleaner"
   ]
  }
 ],
 "metadata": {
  "language_info": {
   "name": "python"
  }
 },
 "nbformat": 4,
 "nbformat_minor": 5
}
