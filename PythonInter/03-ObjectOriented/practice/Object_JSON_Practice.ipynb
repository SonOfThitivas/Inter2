{
 "cells": [
  {
   "cell_type": "markdown",
   "id": "b5392387",
   "metadata": {},
   "source": [
    "# 🧪 Practice: OOP + JSON Integration\n",
    "\n",
    "This notebook provides practice tasks for working with Object-Oriented Programming and JSON in Python.\n",
    "You'll practice:\n",
    "- Creating classes\n",
    "- Writing `to_dict()` and `from_dict()` methods\n",
    "- Saving and loading objects using the `json` module"
   ]
  },
  {
   "cell_type": "markdown",
   "id": "c1cee8f6",
   "metadata": {},
   "source": [
    "## ✅ Practice 1: Define a Class\n",
    "\n",
    "Create a class `Book` with attributes `title`, `author`, and `pages`.\n",
    "Add a `to_dict()` method that returns a dictionary version of the book."
   ]
  },
  {
   "cell_type": "code",
   "execution_count": null,
   "id": "0d3bab60",
   "metadata": {},
   "outputs": [],
   "source": [
    "# Your code here\n",
    "\n",
    "# Example:\n",
    "# b = Book(\"1984\", \"George Orwell\", 328)\n",
    "# print(b.to_dict())\n",
    "\n",
    "# Expected Output:\n",
    "# {'title': '1984', 'author': 'George Orwell', 'pages': 328}\n"
   ]
  },
  {
   "cell_type": "markdown",
   "id": "e09880b1",
   "metadata": {},
   "source": [
    "## ✅ Practice 2: Add a `from_dict()` Classmethod\n",
    "\n",
    "Add a classmethod `from_dict(data)` to your `Book` class that creates a `Book` object from a dictionary."
   ]
  },
  {
   "cell_type": "code",
   "execution_count": null,
   "id": "8a210089",
   "metadata": {},
   "outputs": [],
   "source": [
    "# Your code here\n",
    "\n",
    "# Example:\n",
    "# data = {'title': 'Dune', 'author': 'Frank Herbert', 'pages': 412}\n",
    "# b = Book.from_dict(data)\n",
    "# print(b.title, b.author)\n",
    "\n",
    "# Expected Output:\n",
    "# Dune Frank Herbert\n"
   ]
  },
  {
   "cell_type": "markdown",
   "id": "f19fb7f6",
   "metadata": {},
   "source": [
    "## ✅ Practice 3: Save a Book to JSON\n",
    "\n",
    "Use `json.dump()` to save a book dictionary to a file named `book.json`."
   ]
  },
  {
   "cell_type": "code",
   "execution_count": null,
   "id": "0452eec8",
   "metadata": {},
   "outputs": [],
   "source": [
    "# Your code here\n",
    "\n",
    "# Example:\n",
    "# with open(\"book.json\", \"w\") as f:\n",
    "#     json.dump(b.to_dict(), f, indent=2)\n"
   ]
  },
  {
   "cell_type": "markdown",
   "id": "b471dd50",
   "metadata": {},
   "source": [
    "## ✅ Practice 4: Load a Book from JSON\n",
    "\n",
    "Use `json.load()` to read from `book.json` and re-create a `Book` object using `from_dict()`."
   ]
  },
  {
   "cell_type": "code",
   "execution_count": null,
   "id": "eda0e15a",
   "metadata": {},
   "outputs": [],
   "source": [
    "# Your code here\n",
    "\n",
    "# Example:\n",
    "# with open(\"book.json\", \"r\") as f:\n",
    "#     data = json.load(f)\n",
    "# book = Book.from_dict(data)\n",
    "# print(book.title)\n"
   ]
  },
  {
   "cell_type": "markdown",
   "id": "512c5088",
   "metadata": {},
   "source": [
    "## ✅ Practice 5: Work with Multiple Books\n",
    "\n",
    "Create a list of 3 books, save them to a file called `books.json`, and then load and re-create them into a list of `Book` objects."
   ]
  },
  {
   "cell_type": "code",
   "execution_count": null,
   "id": "3d97d507",
   "metadata": {},
   "outputs": [],
   "source": [
    "# Your code here\n",
    "\n",
    "# Example:\n",
    "# books = [Book(\"Book1\", \"Author1\", 100), Book(\"Book2\", \"Author2\", 200), Book(\"Book3\", \"Author3\", 300)]\n",
    "# Save to books.json\n",
    "# Load and recreate using Book.from_dict()\n"
   ]
  },
  {
   "cell_type": "markdown",
   "id": "26dc880f",
   "metadata": {},
   "source": [
    "## 🎉 You're Done!\n",
    "You’ve practiced using `@classmethod`, `to_dict()`, JSON saving/loading, and object reconstruction.\n",
    "Great job!"
   ]
  }
 ],
 "metadata": {
  "language_info": {
   "name": "python"
  }
 },
 "nbformat": 4,
 "nbformat_minor": 5
}
