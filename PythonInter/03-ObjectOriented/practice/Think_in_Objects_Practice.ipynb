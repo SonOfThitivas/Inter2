{
 "cells": [
  {
   "cell_type": "markdown",
   "id": "885b5e31",
   "metadata": {},
   "source": [
    "# 🧪 OOP Part 1 Practice — Classes, Attributes, and Methods\n",
    "\n",
    "This notebook helps you practice the basics of Object-Oriented Programming in Python.\n",
    "Topics include:\n",
    "- Defining classes\n",
    "- Using `__init__`\n",
    "- Adding attributes\n",
    "- Writing and calling methods"
   ]
  },
  {
   "cell_type": "markdown",
   "id": "66ef6183",
   "metadata": {},
   "source": [
    "## ✅ Practice 1: Define a Class\n",
    "\n",
    "Create a class `Book` with attributes `title`, `author`, and `pages`. Add a method `summary()` that prints: \n",
    "`<title> by <author>, <pages> pages`"
   ]
  },
  {
   "cell_type": "code",
   "execution_count": null,
   "id": "86e1bc24",
   "metadata": {},
   "outputs": [],
   "source": [
    "# Your code here\n",
    "\n",
    "# Example:\n",
    "# b = Book(\"The Hobbit\", \"J.R.R. Tolkien\", 310)\n",
    "# b.summary()\n",
    "\n",
    "# Expected Output:\n",
    "# The Hobbit by J.R.R. Tolkien, 310 pages\n"
   ]
  },
  {
   "cell_type": "markdown",
   "id": "b2ffa650",
   "metadata": {},
   "source": [
    "## ✅ Practice 2: Add a Method\n",
    "\n",
    "Add a method `is_long()` to the `Book` class that returns `True` if the book has more than 300 pages."
   ]
  },
  {
   "cell_type": "code",
   "execution_count": null,
   "id": "2647abe5",
   "metadata": {},
   "outputs": [],
   "source": [
    "# Your code here\n",
    "\n",
    "# Example:\n",
    "# b = Book(\"Short Story\", \"Author Name\", 150)\n",
    "# print(b.is_long())  # Expected: False\n"
   ]
  },
  {
   "cell_type": "markdown",
   "id": "c505b9b2",
   "metadata": {},
   "source": [
    "## ✅ Practice 3: Another Class\n",
    "\n",
    "Create a class `Dog` with attributes `name` and `breed`. Add methods:\n",
    "- `bark()` → prints `<name> says woof!`\n",
    "- `info()` → prints `<name> is a <breed>`"
   ]
  },
  {
   "cell_type": "code",
   "execution_count": null,
   "id": "4a4607c4",
   "metadata": {},
   "outputs": [],
   "source": [
    "# Your code here\n",
    "\n",
    "# Example:\n",
    "# d = Dog(\"Fido\", \"Labrador\")\n",
    "# d.bark()    # Expected: Fido says woof!\n",
    "# d.info()    # Expected: Fido is a Labrador\n"
   ]
  },
  {
   "cell_type": "markdown",
   "id": "873b0f67",
   "metadata": {},
   "source": [
    "## ✅ Practice 4: Update an Attribute\n",
    "\n",
    "Add a method `rename(new_name)` to the `Dog` class that updates the dog's name."
   ]
  },
  {
   "cell_type": "code",
   "execution_count": null,
   "id": "16a9ef9f",
   "metadata": {},
   "outputs": [],
   "source": [
    "# Your code here\n",
    "\n",
    "# Example:\n",
    "# d.rename(\"Buddy\")\n",
    "# d.bark()    # Expected: Buddy says woof!\n"
   ]
  },
  {
   "cell_type": "markdown",
   "id": "9fa0a8a3",
   "metadata": {},
   "source": [
    "## 🎉 You're Done!\n",
    "Great job practicing how to define classes, initialize attributes, and write methods.\n",
    "\n",
    "Try making your own class next!"
   ]
  }
 ],
 "metadata": {
  "language_info": {
   "name": "python"
  }
 },
 "nbformat": 4,
 "nbformat_minor": 5
}
