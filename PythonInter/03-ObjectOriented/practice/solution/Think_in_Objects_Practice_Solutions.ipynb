{
 "cells": [
  {
   "cell_type": "markdown",
   "id": "fe8032a6",
   "metadata": {},
   "source": [
    "# 🧪 OOP Part 1 Practice — Solutions\n",
    "\n",
    "This notebook provides example solutions to the OOP Part 1 practice tasks. Review the answers to check your understanding of classes, attributes, and methods."
   ]
  },
  {
   "cell_type": "markdown",
   "id": "31ab5d73",
   "metadata": {},
   "source": [
    "## ✅ Solution 1: Define a Class"
   ]
  },
  {
   "cell_type": "code",
   "execution_count": null,
   "id": "6cb3aea5",
   "metadata": {},
   "outputs": [],
   "source": [
    "class Book:\n",
    "    def __init__(self, title, author, pages):\n",
    "        self.title = title\n",
    "        self.author = author\n",
    "        self.pages = pages\n",
    "\n",
    "    def summary(self):\n",
    "        print(f\"{self.title} by {self.author}, {self.pages} pages\")\n",
    "\n",
    "# Test\n",
    "b = Book(\"The Hobbit\", \"J.R.R. Tolkien\", 310)\n",
    "b.summary()"
   ]
  },
  {
   "cell_type": "markdown",
   "id": "1285e3b3",
   "metadata": {},
   "source": [
    "## ✅ Solution 2: Add a Method"
   ]
  },
  {
   "cell_type": "code",
   "execution_count": null,
   "id": "61501218",
   "metadata": {},
   "outputs": [],
   "source": [
    "class Book:\n",
    "    def __init__(self, title, author, pages):\n",
    "        self.title = title\n",
    "        self.author = author\n",
    "        self.pages = pages\n",
    "\n",
    "    def summary(self):\n",
    "        print(f\"{self.title} by {self.author}, {self.pages} pages\")\n",
    "\n",
    "    def is_long(self):\n",
    "        return self.pages > 300\n",
    "\n",
    "# Test\n",
    "b = Book(\"Short Story\", \"Author Name\", 150)\n",
    "print(b.is_long())  # False"
   ]
  },
  {
   "cell_type": "markdown",
   "id": "885c10e5",
   "metadata": {},
   "source": [
    "## ✅ Solution 3: Another Class"
   ]
  },
  {
   "cell_type": "code",
   "execution_count": null,
   "id": "fd114bcd",
   "metadata": {},
   "outputs": [],
   "source": [
    "class Dog:\n",
    "    def __init__(self, name, breed):\n",
    "        self.name = name\n",
    "        self.breed = breed\n",
    "\n",
    "    def bark(self):\n",
    "        print(f\"{self.name} says woof!\")\n",
    "\n",
    "    def info(self):\n",
    "        print(f\"{self.name} is a {self.breed}\")\n",
    "\n",
    "# Test\n",
    "d = Dog(\"Fido\", \"Labrador\")\n",
    "d.bark()\n",
    "d.info()"
   ]
  },
  {
   "cell_type": "markdown",
   "id": "b437f8c3",
   "metadata": {},
   "source": [
    "## ✅ Solution 4: Update an Attribute"
   ]
  },
  {
   "cell_type": "code",
   "execution_count": null,
   "id": "3595ca29",
   "metadata": {},
   "outputs": [],
   "source": [
    "class Dog:\n",
    "    def __init__(self, name, breed):\n",
    "        self.name = name\n",
    "        self.breed = breed\n",
    "\n",
    "    def bark(self):\n",
    "        print(f\"{self.name} says woof!\")\n",
    "\n",
    "    def info(self):\n",
    "        print(f\"{self.name} is a {self.breed}\")\n",
    "\n",
    "    def rename(self, new_name):\n",
    "        self.name = new_name\n",
    "\n",
    "# Test\n",
    "d = Dog(\"Fido\", \"Labrador\")\n",
    "d.rename(\"Buddy\")\n",
    "d.bark()  # Buddy says woof!\n"
   ]
  },
  {
   "cell_type": "markdown",
   "id": "e4e45b9a",
   "metadata": {},
   "source": [
    "## 🎉 Great Work!\n",
    "You now have working examples of class creation, attributes, methods, and object behavior. Keep experimenting to build confidence!"
   ]
  }
 ],
 "metadata": {
  "language_info": {
   "name": "python"
  }
 },
 "nbformat": 4,
 "nbformat_minor": 5
}
