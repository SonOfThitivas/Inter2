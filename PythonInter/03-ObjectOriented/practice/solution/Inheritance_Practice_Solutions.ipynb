{
 "cells": [
  {
   "cell_type": "markdown",
   "id": "f7ab5913",
   "metadata": {},
   "source": [
    "# 🧪 Inheritance Practice — Solutions\n",
    "\n",
    "This notebook contains example solutions to the inheritance practice tasks. Use this to check your work or explore how the classes can be implemented."
   ]
  },
  {
   "cell_type": "markdown",
   "id": "a9798a74",
   "metadata": {},
   "source": [
    "## ✅ Solution 1: Basic Inheritance"
   ]
  },
  {
   "cell_type": "code",
   "execution_count": null,
   "id": "c830d96f",
   "metadata": {},
   "outputs": [],
   "source": [
    "class Person:\n",
    "    def __init__(self, name):\n",
    "        self.name = name\n",
    "\n",
    "    def greet(self):\n",
    "        print(f\"Hello, my name is {self.name}.\")\n",
    "\n",
    "class Teacher(Person):\n",
    "    def teach(self):\n",
    "        print(\"I'm teaching a class.\")\n",
    "\n",
    "# Test\n",
    "p = Person(\"Alice\")\n",
    "t = Teacher(\"Bob\")\n",
    "p.greet()\n",
    "t.greet()\n",
    "t.teach()"
   ]
  },
  {
   "cell_type": "markdown",
   "id": "dd08d2c4",
   "metadata": {},
   "source": [
    "## ✅ Solution 2: Using `super()`"
   ]
  },
  {
   "cell_type": "code",
   "execution_count": null,
   "id": "21054610",
   "metadata": {},
   "outputs": [],
   "source": [
    "class Employee:\n",
    "    def __init__(self, name, salary):\n",
    "        self.name = name\n",
    "        self.salary = salary\n",
    "\n",
    "class Manager(Employee):\n",
    "    def __init__(self, name, salary, department):\n",
    "        super().__init__(name, salary)\n",
    "        self.department = department\n",
    "\n",
    "# Test\n",
    "m = Manager(\"Carol\", 70000, \"Sales\")\n",
    "print(m.name, m.salary, m.department)"
   ]
  },
  {
   "cell_type": "markdown",
   "id": "3e76dd93",
   "metadata": {},
   "source": [
    "## ✅ Solution 3: Override a Method"
   ]
  },
  {
   "cell_type": "code",
   "execution_count": null,
   "id": "e8bc2a87",
   "metadata": {},
   "outputs": [],
   "source": [
    "class Employee:\n",
    "    def __init__(self, name, salary):\n",
    "        self.name = name\n",
    "        self.salary = salary\n",
    "\n",
    "    def describe(self):\n",
    "        print(f\"Name: {self.name}, Salary: {self.salary}\")\n",
    "\n",
    "class Manager(Employee):\n",
    "    def __init__(self, name, salary, department):\n",
    "        super().__init__(name, salary)\n",
    "        self.department = department\n",
    "\n",
    "    def describe(self):\n",
    "        print(f\"Name: {self.name}, Salary: {self.salary}, Department: {self.department}\")\n",
    "\n",
    "# Test\n",
    "m = Manager(\"David\", 80000, \"Marketing\")\n",
    "m.describe()"
   ]
  },
  {
   "cell_type": "markdown",
   "id": "219c9cad",
   "metadata": {},
   "source": [
    "## ✅ Solution 4: Add New Behavior to Subclass"
   ]
  },
  {
   "cell_type": "code",
   "execution_count": null,
   "id": "bb9b3ca7",
   "metadata": {},
   "outputs": [],
   "source": [
    "class Manager(Employee):\n",
    "    def __init__(self, name, salary, department):\n",
    "        super().__init__(name, salary)\n",
    "        self.department = department\n",
    "\n",
    "    def describe(self):\n",
    "        print(f\"Name: {self.name}, Salary: {self.salary}, Department: {self.department}\")\n",
    "\n",
    "    def conduct_meeting(self):\n",
    "        print(f\"Meeting for {self.department} started.\")\n",
    "\n",
    "# Test\n",
    "m = Manager(\"David\", 80000, \"Marketing\")\n",
    "m.conduct_meeting()"
   ]
  },
  {
   "cell_type": "markdown",
   "id": "dc0f679e",
   "metadata": {},
   "source": [
    "## ✅ Solution 5: Polymorphism"
   ]
  },
  {
   "cell_type": "code",
   "execution_count": null,
   "id": "99f8a0a1",
   "metadata": {},
   "outputs": [],
   "source": [
    "employees = [\n",
    "    Employee(\"Anna\", 50000),\n",
    "    Manager(\"Eve\", 90000, \"HR\")\n",
    "]\n",
    "\n",
    "for e in employees:\n",
    "    e.describe()"
   ]
  },
  {
   "cell_type": "markdown",
   "id": "483cd664",
   "metadata": {},
   "source": [
    "## 🎉 Great job!\n",
    "You've now seen example solutions for creating and working with inheritance in Python."
   ]
  }
 ],
 "metadata": {
  "language_info": {
   "name": "python"
  }
 },
 "nbformat": 4,
 "nbformat_minor": 5
}
