{
 "cells": [
  {
   "cell_type": "markdown",
   "id": "b578aba4",
   "metadata": {},
   "source": [
    "# 🧪 Solutions: OOP + JSON Integration\n",
    "\n",
    "This notebook contains example solutions for the practice tasks involving classes, `to_dict()`, `from_dict()`, and JSON file operations."
   ]
  },
  {
   "cell_type": "markdown",
   "id": "1760cef3",
   "metadata": {},
   "source": [
    "## ✅ Solution 1: Define a Class"
   ]
  },
  {
   "cell_type": "code",
   "execution_count": null,
   "id": "e2a66579",
   "metadata": {},
   "outputs": [],
   "source": [
    "class Book:\n",
    "    def __init__(self, title, author, pages):\n",
    "        self.title = title\n",
    "        self.author = author\n",
    "        self.pages = pages\n",
    "\n",
    "    def to_dict(self):\n",
    "        return {\n",
    "            \"title\": self.title,\n",
    "            \"author\": self.author,\n",
    "            \"pages\": self.pages\n",
    "        }\n",
    "\n",
    "# Test\n",
    "b = Book(\"1984\", \"George Orwell\", 328)\n",
    "print(b.to_dict())"
   ]
  },
  {
   "cell_type": "markdown",
   "id": "c4122ec8",
   "metadata": {},
   "source": [
    "## ✅ Solution 2: Add a `from_dict()` Classmethod"
   ]
  },
  {
   "cell_type": "code",
   "execution_count": null,
   "id": "377f2ab6",
   "metadata": {},
   "outputs": [],
   "source": [
    "class Book:\n",
    "    def __init__(self, title, author, pages):\n",
    "        self.title = title\n",
    "        self.author = author\n",
    "        self.pages = pages\n",
    "\n",
    "    def to_dict(self):\n",
    "        return {\n",
    "            \"title\": self.title,\n",
    "            \"author\": self.author,\n",
    "            \"pages\": self.pages\n",
    "        }\n",
    "\n",
    "    @classmethod\n",
    "    def from_dict(cls, data):\n",
    "        return cls(data[\"title\"], data[\"author\"], data[\"pages\"])\n",
    "\n",
    "# Test\n",
    "data = {'title': 'Dune', 'author': 'Frank Herbert', 'pages': 412}\n",
    "b = Book.from_dict(data)\n",
    "print(b.title, b.author)"
   ]
  },
  {
   "cell_type": "markdown",
   "id": "39da6a42",
   "metadata": {},
   "source": [
    "## ✅ Solution 3: Save a Book to JSON"
   ]
  },
  {
   "cell_type": "code",
   "execution_count": null,
   "id": "bc84209e",
   "metadata": {},
   "outputs": [],
   "source": [
    "import json\n",
    "\n",
    "b = Book(\"1984\", \"George Orwell\", 328)\n",
    "with open(\"book.json\", \"w\") as f:\n",
    "    json.dump(b.to_dict(), f, indent=2)"
   ]
  },
  {
   "cell_type": "markdown",
   "id": "5f5be64c",
   "metadata": {},
   "source": [
    "## ✅ Solution 4: Load a Book from JSON"
   ]
  },
  {
   "cell_type": "code",
   "execution_count": null,
   "id": "732d3d99",
   "metadata": {},
   "outputs": [],
   "source": [
    "with open(\"book.json\", \"r\") as f:\n",
    "    data = json.load(f)\n",
    "\n",
    "book = Book.from_dict(data)\n",
    "print(book.title)"
   ]
  },
  {
   "cell_type": "markdown",
   "id": "9e744921",
   "metadata": {},
   "source": [
    "## ✅ Solution 5: Work with Multiple Books"
   ]
  },
  {
   "cell_type": "code",
   "execution_count": null,
   "id": "ab1b9fb6",
   "metadata": {},
   "outputs": [],
   "source": [
    "books = [\n",
    "    Book(\"Book1\", \"Author1\", 100),\n",
    "    Book(\"Book2\", \"Author2\", 200),\n",
    "    Book(\"Book3\", \"Author3\", 300)\n",
    "]\n",
    "\n",
    "# Save all\n",
    "with open(\"books.json\", \"w\") as f:\n",
    "    json.dump([b.to_dict() for b in books], f, indent=2)\n",
    "\n",
    "# Load all\n",
    "with open(\"books.json\", \"r\") as f:\n",
    "    data = json.load(f)\n",
    "\n",
    "book_objects = [Book.from_dict(d) for d in data]\n",
    "\n",
    "# Display loaded books\n",
    "for b in book_objects:\n",
    "    print(f\"{b.title} by {b.author}, {b.pages} pages\")"
   ]
  },
  {
   "cell_type": "markdown",
   "id": "3c1d7c9d",
   "metadata": {},
   "source": [
    "## 🎉 Done!\n",
    "These examples show how to use classes with JSON to store and retrieve object data in a structured way."
   ]
  }
 ],
 "metadata": {
  "kernelspec": {
   "display_name": "base",
   "language": "python",
   "name": "python3"
  },
  "language_info": {
   "codemirror_mode": {
    "name": "ipython",
    "version": 3
   },
   "file_extension": ".py",
   "mimetype": "text/x-python",
   "name": "python",
   "nbconvert_exporter": "python",
   "pygments_lexer": "ipython3",
   "version": "3.11.4"
  }
 },
 "nbformat": 4,
 "nbformat_minor": 5
}
