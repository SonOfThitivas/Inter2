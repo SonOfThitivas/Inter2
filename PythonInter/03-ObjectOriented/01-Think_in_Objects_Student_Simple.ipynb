{
 "cells": [
  {
   "cell_type": "markdown",
   "id": "bcf661f5",
   "metadata": {},
   "source": [
    "# 🎓 Think in Objects — Student Example\n",
    "\n",
    "This notebook introduces Object-Oriented Programming (OOP) using a Student example. We’ll explore:\n",
    "- Defining a class and creating objects\n",
    "- Inheritance and `super()` with a GraduateStudent\n",
    "- A taste of polymorphism"
   ]
  },
  {
   "cell_type": "markdown",
   "id": "ebf36eb9",
   "metadata": {},
   "source": [
    "## 🧱 Step 1: Define the `Student` Class\n",
    "We start by creating a basic `Student` class with attributes and a method."
   ]
  },
  {
   "cell_type": "code",
   "execution_count": null,
   "id": "7d2b6cee",
   "metadata": {},
   "outputs": [],
   "source": [
    "class Student:\n",
    "    def __init__(self, name, age):\n",
    "        self.name = name\n",
    "        self.age = age\n",
    "\n",
    "    def display_info(self):\n",
    "        print(f\"{self.name}, Age: {self.age}\")"
   ]
  },
  {
   "cell_type": "code",
   "execution_count": null,
   "id": "9e822b75",
   "metadata": {},
   "outputs": [],
   "source": [
    "# Create a Student object\n",
    "s1 = Student(\"Alice\", 20)\n",
    "s1.display_info()"
   ]
  },
  {
   "cell_type": "markdown",
   "id": "b98f02a0",
   "metadata": {},
   "source": [
    "## 🎓 Step 2: Create a `GraduateStudent` Subclass\n",
    "Graduate students are still students, but they have an extra attribute: `thesis_topic`."
   ]
  },
  {
   "cell_type": "code",
   "execution_count": null,
   "id": "a20c163d",
   "metadata": {},
   "outputs": [],
   "source": [
    "class GraduateStudent(Student):\n",
    "    def __init__(self, name, age, thesis_topic):\n",
    "        super().__init__(name, age)  # Reuse parent class init\n",
    "        self.thesis_topic = thesis_topic\n",
    "\n",
    "    def display_info(self):\n",
    "        super().display_info()\n",
    "        print(f\"Thesis: {self.thesis_topic}\")"
   ]
  },
  {
   "cell_type": "code",
   "execution_count": null,
   "id": "81770952",
   "metadata": {},
   "outputs": [],
   "source": [
    "# Create a GraduateStudent object\n",
    "gs1 = GraduateStudent(\"Bob\", 25, \"AI in Healthcare\")\n",
    "gs1.display_info()"
   ]
  },
  {
   "cell_type": "markdown",
   "id": "46367f9b",
   "metadata": {},
   "source": [
    "## 🔄 Step 3: Polymorphism in Action\n",
    "Call the same method (`display_info`) on different types of students."
   ]
  },
  {
   "cell_type": "code",
   "execution_count": null,
   "id": "99a96547",
   "metadata": {},
   "outputs": [],
   "source": [
    "students = [\n",
    "    Student(\"Charlie\", 19),\n",
    "    GraduateStudent(\"Dana\", 24, \"Data Privacy\")\n",
    "]\n",
    "\n",
    "for student in students:\n",
    "    student.display_info()\n",
    "    print(\"---\")"
   ]
  },
  {
   "cell_type": "markdown",
   "id": "74fae7c2",
   "metadata": {},
   "source": [
    "## ✅ Summary\n",
    "- `Student` is a base class\n",
    "- `GraduateStudent` inherits from `Student` and adds new behavior\n",
    "- `super()` helps us reuse and extend parent logic\n",
    "- Polymorphism lets us treat different student types in the same way\n",
    "\n",
    "Next: Use a manager class to store and save students to JSON!"
   ]
  }
 ],
 "metadata": {
  "language_info": {
   "name": "python"
  }
 },
 "nbformat": 4,
 "nbformat_minor": 5
}
