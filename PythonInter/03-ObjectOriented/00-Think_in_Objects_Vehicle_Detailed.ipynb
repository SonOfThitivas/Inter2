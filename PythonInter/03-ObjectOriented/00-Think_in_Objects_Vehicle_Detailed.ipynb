{
 "cells": [
  {
   "cell_type": "markdown",
   "id": "4f92e93b",
   "metadata": {},
   "source": [
    "# 🚗 Think in Objects — Vehicle Example (Detailed Version)\n",
    "\n",
    "This notebook walks through Object-Oriented Programming (OOP) in Python step-by-step using a `Vehicle` example. You'll learn:\n",
    "- What a class is\n",
    "- How to define attributes\n",
    "- What `self` means\n",
    "- How constructors (`__init__`) work\n",
    "- How to define methods\n",
    "- Inheritance and `super()`\n",
    "- A taste of polymorphism"
   ]
  },
  {
   "cell_type": "markdown",
   "id": "2d2cf53c",
   "metadata": {},
   "source": [
    "## 🧱 Step 1: What is a Class?\n",
    "A **class** is a blueprint for creating objects.\n",
    "It defines what data (attributes) and actions (methods) an object should have."
   ]
  },
  {
   "cell_type": "code",
   "execution_count": null,
   "id": "eda3f013",
   "metadata": {},
   "outputs": [],
   "source": [
    "# This is an empty class\n",
    "class Vehicle:\n",
    "    pass"
   ]
  },
  {
   "cell_type": "markdown",
   "id": "e22cb76d",
   "metadata": {},
   "source": [
    "## 🔨 Step 2: Add a Constructor (`__init__`)\n",
    "The constructor is a special method that runs when you create an object. It usually sets up initial values."
   ]
  },
  {
   "cell_type": "code",
   "execution_count": null,
   "id": "7d996fa1",
   "metadata": {},
   "outputs": [],
   "source": [
    "class Vehicle:\n",
    "    def __init__(self):\n",
    "        print(\"A vehicle has been created!\")"
   ]
  },
  {
   "cell_type": "code",
   "execution_count": null,
   "id": "c9664537",
   "metadata": {},
   "outputs": [],
   "source": [
    "# Create an object to see the constructor in action\n",
    "v = Vehicle()"
   ]
  },
  {
   "cell_type": "markdown",
   "id": "95bd02b6",
   "metadata": {},
   "source": [
    "## 📦 Step 3: Add Attributes with `self`\n",
    "- `self` refers to the object being created.\n",
    "- You store data inside the object by assigning it to `self.attribute_name`."
   ]
  },
  {
   "cell_type": "code",
   "execution_count": null,
   "id": "4be406fd",
   "metadata": {},
   "outputs": [],
   "source": [
    "class Vehicle:\n",
    "    def __init__(self, color, fuel):\n",
    "        self.color = color     # attribute\n",
    "        self.fuel = fuel       # attribute"
   ]
  },
  {
   "cell_type": "code",
   "execution_count": null,
   "id": "e33e9c7d",
   "metadata": {},
   "outputs": [],
   "source": [
    "v1 = Vehicle(\"red\", \"gasoline\")\n",
    "print(v1.color)\n",
    "print(v1.fuel)"
   ]
  },
  {
   "cell_type": "markdown",
   "id": "08320e64",
   "metadata": {},
   "source": [
    "## ⚙️ Step 4: Add Methods\n",
    "A method is a function inside a class. It can access and modify the object’s data using `self`."
   ]
  },
  {
   "cell_type": "code",
   "execution_count": null,
   "id": "c0021ddc",
   "metadata": {},
   "outputs": [],
   "source": [
    "class Vehicle:\n",
    "    def __init__(self, color, fuel):\n",
    "        self.color = color\n",
    "        self.fuel = fuel\n",
    "        self.speed = 0\n",
    "\n",
    "    def drive(self):\n",
    "        self.speed += 10\n",
    "        print(f\"The vehicle is moving. Speed: {self.speed} km/h\")\n",
    "\n",
    "    def brake(self):\n",
    "        self.speed = 0\n",
    "        print(\"The vehicle has stopped.\")"
   ]
  },
  {
   "cell_type": "code",
   "execution_count": null,
   "id": "17eb37f6",
   "metadata": {},
   "outputs": [],
   "source": [
    "v2 = Vehicle(\"blue\", \"diesel\")\n",
    "v2.drive()\n",
    "v2.drive()\n",
    "v2.brake()"
   ]
  },
  {
   "cell_type": "markdown",
   "id": "dc1c8c50",
   "metadata": {},
   "source": [
    "## 🧬 Step 5: Inheritance\n",
    "We can create a new class based on `Vehicle`. It will inherit all the attributes and methods from `Vehicle`."
   ]
  },
  {
   "cell_type": "code",
   "execution_count": null,
   "id": "0fabab75",
   "metadata": {},
   "outputs": [],
   "source": [
    "class ElectricCar(Vehicle):\n",
    "    def __init__(self, color, battery_level):\n",
    "        super().__init__(color, fuel=None)  # call Vehicle's constructor\n",
    "        self.battery_level = battery_level\n",
    "\n",
    "    def charge(self):\n",
    "        print(\"Charging the battery...\")"
   ]
  },
  {
   "cell_type": "code",
   "execution_count": null,
   "id": "f4367520",
   "metadata": {},
   "outputs": [],
   "source": [
    "e1 = ElectricCar(\"green\", 90)\n",
    "e1.drive()\n",
    "e1.charge()"
   ]
  },
  {
   "cell_type": "markdown",
   "id": "0ad1e1dd",
   "metadata": {},
   "source": [
    "## 🔄 Step 6: Polymorphism\n",
    "Polymorphism means different classes can define the same method name in different ways."
   ]
  },
  {
   "cell_type": "code",
   "execution_count": null,
   "id": "bed9a8b6",
   "metadata": {},
   "outputs": [],
   "source": [
    "class ElectricCar(Vehicle):\n",
    "    def __init__(self, color, battery_level):\n",
    "        super().__init__(color, fuel=None)\n",
    "        self.battery_level = battery_level\n",
    "\n",
    "    def drive(self):\n",
    "        self.speed += 20\n",
    "        print(f\"The electric car glides silently. Speed: {self.speed} km/h\")"
   ]
  },
  {
   "cell_type": "code",
   "execution_count": null,
   "id": "cfbae232",
   "metadata": {},
   "outputs": [],
   "source": [
    "vehicles = [Vehicle(\"white\", \"petrol\"), ElectricCar(\"black\", 80)]\n",
    "\n",
    "for v in vehicles:\n",
    "    v.drive()"
   ]
  },
  {
   "cell_type": "markdown",
   "id": "c4e4f2f2",
   "metadata": {},
   "source": [
    "## ✅ Summary\n",
    "- `class` is a blueprint\n",
    "- `__init__` is a constructor\n",
    "- `self` refers to the specific object\n",
    "- Attributes store object data\n",
    "- Methods define object behavior\n",
    "- Inheritance and `super()` let you reuse and extend code\n",
    "- Polymorphism lets different classes respond differently to the same method"
   ]
  }
 ],
 "metadata": {
  "language_info": {
   "name": "python"
  }
 },
 "nbformat": 4,
 "nbformat_minor": 5
}
