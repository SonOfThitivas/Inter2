{
 "cells": [
  {
   "cell_type": "markdown",
   "id": "e895fe63",
   "metadata": {},
   "source": [
    "# 📚 Practice: Book Tracker (OOP + JSON)\n",
    "**Concepts:** Classes, Methods, JSON File I/O, CLI interaction\n",
    "\n",
    "Build a program to manage a small collection of books. You will:\n",
    "- Use a class to model a `Book`\n",
    "- Store and load books from a JSON file\n",
    "- Implement missing methods yourself"
   ]
  },
  {
   "cell_type": "code",
   "execution_count": null,
   "id": "997e838c",
   "metadata": {},
   "outputs": [],
   "source": [
    "import json\n",
    "\n",
    "class Book:\n",
    "    def __init__(self, title, author, read=False):\n",
    "        self.title = title\n",
    "        self.author = author\n",
    "        self.read = read\n",
    "\n",
    "    def mark_as_read(self):\n",
    "        # TODO: set self.read to True\n",
    "        pass\n",
    "\n",
    "    def to_dict(self):\n",
    "        # TODO: return a dictionary with title, author, and read\n",
    "        pass\n",
    "\n",
    "    @classmethod\n",
    "    def from_dict(cls, data):\n",
    "        return cls(data[\"title\"], data[\"author\"], data.get(\"read\", False))"
   ]
  },
  {
   "cell_type": "code",
   "execution_count": null,
   "id": "4bafdea3",
   "metadata": {},
   "outputs": [],
   "source": [
    "def load_books(filename=\"books.json\"):\n",
    "    try:\n",
    "        with open(filename, \"r\") as f:\n",
    "            data = json.load(f)\n",
    "            return [Book.from_dict(b) for b in data]\n",
    "    except FileNotFoundError:\n",
    "        print(\"No saved book list found. Starting fresh.\")\n",
    "        return []\n",
    "\n",
    "def save_books(books, filename=\"books.json\"):\n",
    "    with open(filename, \"w\") as f:\n",
    "        json.dump([b.to_dict() for b in books], f, indent=2)"
   ]
  },
  {
   "cell_type": "code",
   "execution_count": null,
   "id": "eccb994a",
   "metadata": {},
   "outputs": [],
   "source": [
    "def main():\n",
    "    books = load_books()\n",
    "\n",
    "    while True:\n",
    "        print(\"\\n1. Add book\\n2. Mark as read\\n3. View books\\n4. Save & Exit\")\n",
    "        choice = input(\"Choose an option: \")\n",
    "\n",
    "        if choice == \"1\":\n",
    "            title = input(\"Enter book title: \")\n",
    "            author = input(\"Enter author: \")\n",
    "            books.append(Book(title, author))\n",
    "        elif choice == \"2\":\n",
    "            title = input(\"Enter book title to mark as read: \")\n",
    "            for b in books:\n",
    "                if b.title == title:\n",
    "                    b.mark_as_read()\n",
    "                    print(f\"Marked '{title}' as read.\")\n",
    "                    break\n",
    "            else:\n",
    "                print(\"Book not found.\")\n",
    "        elif choice == \"3\":\n",
    "            for b in books:\n",
    "                status = \"Read\" if b.read else \"Not Read\"\n",
    "                print(f\"{b.title} by {b.author} - {status}\")\n",
    "        elif choice == \"4\":\n",
    "            save_books(books)\n",
    "            print(\"Books saved. Goodbye!\")\n",
    "            break\n",
    "        else:\n",
    "            print(\"Invalid option.\")"
   ]
  },
  {
   "cell_type": "markdown",
   "id": "5459abc8",
   "metadata": {},
   "source": [
    "### ✅ Your Tasks:\n",
    "- Complete the `mark_as_read()` method\n",
    "- Complete the `to_dict()` method to save the book\n",
    "- Add and test multiple books\n",
    "\n",
    "**Bonus:**\n",
    "- Allow deleting a book\n",
    "- Filter to show only unread books"
   ]
  }
 ],
 "metadata": {
  "language_info": {
   "name": "python"
  }
 },
 "nbformat": 4,
 "nbformat_minor": 5
}
