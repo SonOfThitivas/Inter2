{
 "cells": [
  {
   "cell_type": "markdown",
   "metadata": {},
   "source": [
    "# 💻 Practice: Bank Account Manager (OOP + JSON)\n",
    "**Concepts:** Classes, Methods, JSON File I/O, CLI interaction\n",
    "\n",
    "Build a program to manage simple bank accounts.\n",
    "You will:\n",
    "- Use OOP to model a `BankAccount`\n",
    "- Store account data in a JSON file\n",
    "- Implement key class methods yourself"
   ]
  },
  {
   "cell_type": "markdown",
   "metadata": {},
   "source": [
    "### 🧠 Your Tasks:\n",
    "- Implement `deposit()` method\n",
    "- Implement `withdraw()` method with sufficient-funds check\n",
    "- Implement `to_dict()` to return a dict like `{\"name\": self.name, \"balance\": self.balance}`\n",
    "\n",
    "**Optional:**\n",
    "- Add print messages for each transaction\n",
    "- Prevent negative amounts\n",
    "- Add simple logging or timestamps"
   ]
  },
  {
   "cell_type": "code",
   "execution_count": 1,
   "metadata": {},
   "outputs": [],
   "source": [
    "import json\n",
    "\n",
    "class BankAccount:\n",
    "    def __init__(self, name, balance=0.0):\n",
    "        self.name = name\n",
    "        self.balance = balance\n",
    "\n",
    "    def deposit(self, amount):\n",
    "        # TODO: Add amount to balance\n",
    "        pass\n",
    "\n",
    "    def withdraw(self, amount):\n",
    "        # TODO: Subtract amount from balance (only if enough funds)\n",
    "        pass\n",
    "\n",
    "    def to_dict(self):\n",
    "        # TODO: Return a dictionary with 'name' and 'balance'\n",
    "        pass\n",
    "\n",
    "    @classmethod\n",
    "    def from_dict(cls, data):\n",
    "        return cls(data[\"name\"], data[\"balance\"])"
   ]
  },
  {
   "cell_type": "code",
   "execution_count": 2,
   "metadata": {},
   "outputs": [],
   "source": [
    "def load_accounts(filename=\"bank_data.json\"):\n",
    "    try:\n",
    "        with open(filename, \"r\") as f:\n",
    "            data = json.load(f)\n",
    "            return [BankAccount.from_dict(acc) for acc in data]\n",
    "    except FileNotFoundError:\n",
    "        return []\n",
    "\n",
    "def save_accounts(accounts, filename=\"bank_data.json\"):\n",
    "    with open(filename, \"w\") as f:\n",
    "        json.dump([acc.to_dict() for acc in accounts], f, indent=2)"
   ]
  },
  {
   "cell_type": "code",
   "execution_count": 3,
   "metadata": {},
   "outputs": [],
   "source": [
    "def find_account(accounts, name):\n",
    "    for acc in accounts:\n",
    "        if acc.name == name:\n",
    "            return acc\n",
    "    return None"
   ]
  },
  {
   "cell_type": "code",
   "execution_count": 5,
   "metadata": {},
   "outputs": [],
   "source": [
    "def main():\n",
    "    accounts = load_accounts()\n",
    "\n",
    "    while True:\n",
    "        print(\"\\n1. Create account\\n2. Deposit\\n3. Withdraw\\n4. View accounts\\n5. Save & Exit\")\n",
    "        choice = input(\"Choose an option: \")\n",
    "\n",
    "        if choice == \"1\":\n",
    "            name = input(\"Enter new account name: \")\n",
    "            if find_account(accounts, name):\n",
    "                print(\"Account already exists.\")\n",
    "            else:\n",
    "                accounts.append(BankAccount(name))\n",
    "        elif choice == \"2\":\n",
    "            name = input(\"Enter account name: \")\n",
    "            acc = find_account(accounts, name)\n",
    "            if acc:\n",
    "                amt = float(input(\"Amount to deposit: \"))\n",
    "                acc.deposit(amt)\n",
    "            else:\n",
    "                print(\"Account not found.\")\n",
    "        elif choice == \"3\":\n",
    "            name = input(\"Enter account name: \")\n",
    "            acc = find_account(accounts, name)\n",
    "            if acc:\n",
    "                amt = float(input(\"Amount to withdraw: \"))\n",
    "                acc.withdraw(amt)\n",
    "            else:\n",
    "                print(\"Account not found.\")\n",
    "        elif choice == \"4\":\n",
    "            for acc in accounts:\n",
    "                print(f\"{acc.name}: ${acc.balance:.2f}\")\n",
    "        elif choice == \"5\":\n",
    "            save_accounts(accounts)\n",
    "            print(\"Accounts saved. Goodbye!\")\n",
    "            break\n",
    "        else:\n",
    "            print(\"Invalid option.\")"
   ]
  }
 ],
 "metadata": {
  "kernelspec": {
   "display_name": "base",
   "language": "python",
   "name": "python3"
  },
  "language_info": {
   "codemirror_mode": {
    "name": "ipython",
    "version": 3
   },
   "file_extension": ".py",
   "mimetype": "text/x-python",
   "name": "python",
   "nbconvert_exporter": "python",
   "pygments_lexer": "ipython3",
   "version": "3.11.4"
  }
 },
 "nbformat": 4,
 "nbformat_minor": 2
}
